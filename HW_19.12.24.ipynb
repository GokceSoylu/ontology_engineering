{
  "cells": [
    {
      "cell_type": "markdown",
      "metadata": {
        "id": "view-in-github",
        "colab_type": "text"
      },
      "source": [
        "<a href=\"https://colab.research.google.com/github/GokceSoylu/ontology_engineering/blob/main/HW_19.12.24.ipynb\" target=\"_parent\"><img src=\"https://colab.research.google.com/assets/colab-badge.svg\" alt=\"Open In Colab\"/></a>"
      ]
    },
    {
      "cell_type": "code",
      "source": [
        "!pip install pyvis\n"
      ],
      "metadata": {
        "collapsed": true,
        "colab": {
          "base_uri": "https://localhost:8080/"
        },
        "id": "lUcFOXUTel9p",
        "outputId": "797d3b10-9742-4ad8-e3a8-6042efcedb4f"
      },
      "execution_count": 1,
      "outputs": [
        {
          "output_type": "stream",
          "name": "stdout",
          "text": [
            "Collecting pyvis\n",
            "  Downloading pyvis-0.3.2-py3-none-any.whl.metadata (1.7 kB)\n",
            "Requirement already satisfied: ipython>=5.3.0 in /usr/local/lib/python3.10/dist-packages (from pyvis) (7.34.0)\n",
            "Requirement already satisfied: jinja2>=2.9.6 in /usr/local/lib/python3.10/dist-packages (from pyvis) (3.1.4)\n",
            "Requirement already satisfied: jsonpickle>=1.4.1 in /usr/local/lib/python3.10/dist-packages (from pyvis) (4.0.1)\n",
            "Requirement already satisfied: networkx>=1.11 in /usr/local/lib/python3.10/dist-packages (from pyvis) (3.4.2)\n",
            "Requirement already satisfied: setuptools>=18.5 in /usr/local/lib/python3.10/dist-packages (from ipython>=5.3.0->pyvis) (75.1.0)\n",
            "Collecting jedi>=0.16 (from ipython>=5.3.0->pyvis)\n",
            "  Downloading jedi-0.19.2-py2.py3-none-any.whl.metadata (22 kB)\n",
            "Requirement already satisfied: decorator in /usr/local/lib/python3.10/dist-packages (from ipython>=5.3.0->pyvis) (4.4.2)\n",
            "Requirement already satisfied: pickleshare in /usr/local/lib/python3.10/dist-packages (from ipython>=5.3.0->pyvis) (0.7.5)\n",
            "Requirement already satisfied: traitlets>=4.2 in /usr/local/lib/python3.10/dist-packages (from ipython>=5.3.0->pyvis) (5.7.1)\n",
            "Requirement already satisfied: prompt-toolkit!=3.0.0,!=3.0.1,<3.1.0,>=2.0.0 in /usr/local/lib/python3.10/dist-packages (from ipython>=5.3.0->pyvis) (3.0.48)\n",
            "Requirement already satisfied: pygments in /usr/local/lib/python3.10/dist-packages (from ipython>=5.3.0->pyvis) (2.18.0)\n",
            "Requirement already satisfied: backcall in /usr/local/lib/python3.10/dist-packages (from ipython>=5.3.0->pyvis) (0.2.0)\n",
            "Requirement already satisfied: matplotlib-inline in /usr/local/lib/python3.10/dist-packages (from ipython>=5.3.0->pyvis) (0.1.7)\n",
            "Requirement already satisfied: pexpect>4.3 in /usr/local/lib/python3.10/dist-packages (from ipython>=5.3.0->pyvis) (4.9.0)\n",
            "Requirement already satisfied: MarkupSafe>=2.0 in /usr/local/lib/python3.10/dist-packages (from jinja2>=2.9.6->pyvis) (3.0.2)\n",
            "Requirement already satisfied: parso<0.9.0,>=0.8.4 in /usr/local/lib/python3.10/dist-packages (from jedi>=0.16->ipython>=5.3.0->pyvis) (0.8.4)\n",
            "Requirement already satisfied: ptyprocess>=0.5 in /usr/local/lib/python3.10/dist-packages (from pexpect>4.3->ipython>=5.3.0->pyvis) (0.7.0)\n",
            "Requirement already satisfied: wcwidth in /usr/local/lib/python3.10/dist-packages (from prompt-toolkit!=3.0.0,!=3.0.1,<3.1.0,>=2.0.0->ipython>=5.3.0->pyvis) (0.2.13)\n",
            "Downloading pyvis-0.3.2-py3-none-any.whl (756 kB)\n",
            "\u001b[2K   \u001b[90m━━━━━━━━━━━━━━━━━━━━━━━━━━━━━━━━━━━━━━━━\u001b[0m \u001b[32m756.0/756.0 kB\u001b[0m \u001b[31m9.2 MB/s\u001b[0m eta \u001b[36m0:00:00\u001b[0m\n",
            "\u001b[?25hDownloading jedi-0.19.2-py2.py3-none-any.whl (1.6 MB)\n",
            "\u001b[2K   \u001b[90m━━━━━━━━━━━━━━━━━━━━━━━━━━━━━━━━━━━━━━━━\u001b[0m \u001b[32m1.6/1.6 MB\u001b[0m \u001b[31m31.6 MB/s\u001b[0m eta \u001b[36m0:00:00\u001b[0m\n",
            "\u001b[?25hInstalling collected packages: jedi, pyvis\n",
            "Successfully installed jedi-0.19.2 pyvis-0.3.2\n"
          ]
        }
      ]
    },
    {
      "cell_type": "code",
      "source": [
        "import networkx as nx\n",
        "from pyvis.network import Network"
      ],
      "metadata": {
        "id": "CwMT3zYverY8"
      },
      "execution_count": 2,
      "outputs": []
    },
    {
      "cell_type": "code",
      "source": [
        "# Define nodes and edges\n",
        "complex_nodes = {\n",
        "    \"AI Conference\": (0, 0), \"Blockchain Summit\": (-4, 2), \"Music Festival\": (4, 2),\n",
        "    \"Tech Center\": (-2, -2), \"Concert Hall\": (2, -2), \"Innovation Hub\": (-6, 0),\n",
        "    \"New York\": (-3, -3), \"Los Angeles\": (3, -3), \"San Francisco\": (-7, -1),\n",
        "    \"John Doe\": (-4, 0), \"Jane Smith\": (-2, 1), \"Alice Brown\": (4, 0),\n",
        "    \"Tech Events Inc.\": (-6, -2), \"Music Mania Org.\": (6, -2),\n",
        "    \"2024-12-01 to 2024-12-03\": (0, -1), \"2025-01-10 to 2025-01-12\": (-4, -1),\n",
        "    \"2025-02-15 to 2025-02-16\": (4, -1)\n",
        "}\n",
        "\n",
        "complex_edges = [\n",
        "    (\"AI Conference\", \"Tech Center\"), (\"Blockchain Summit\", \"Innovation Hub\"), (\"Music Festival\", \"Concert Hall\"),\n",
        "    (\"Tech Center\", \"New York\"), (\"Concert Hall\", \"Los Angeles\"), (\"Innovation Hub\", \"San Francisco\"),\n",
        "    (\"AI Conference\", \"John Doe\"), (\"AI Conference\", \"Jane Smith\"), (\"Music Festival\", \"Alice Brown\"),\n",
        "    (\"Blockchain Summit\", \"John Doe\"), (\"Blockchain Summit\", \"Alice Brown\"),\n",
        "    (\"AI Conference\", \"Tech Events Inc.\"), (\"Blockchain Summit\", \"Tech Events Inc.\"),\n",
        "    (\"Music Festival\", \"Music Mania Org.\"),\n",
        "    (\"AI Conference\", \"2024-12-01 to 2024-12-03\"),\n",
        "    (\"Blockchain Summit\", \"2025-01-10 to 2025-01-12\"),\n",
        "    (\"Music Festival\", \"2025-02-15 to 2025-02-16\")\n",
        "]"
      ],
      "metadata": {
        "id": "-lPwJ22gfAA2"
      },
      "execution_count": 3,
      "outputs": []
    },
    {
      "cell_type": "code",
      "source": [
        "# Create a directed graph for the complex ontology\n",
        "G_complex = nx.DiGraph()\n",
        "G_complex.add_nodes_from(complex_nodes.keys())\n",
        "G_complex.add_edges_from(complex_edges)\n"
      ],
      "metadata": {
        "id": "ZgfYRuRifEl_"
      },
      "execution_count": 4,
      "outputs": []
    },
    {
      "cell_type": "code",
      "source": [
        "# Create a pyvis network for visualization\n",
        "pyvis_net = Network(notebook=True)"
      ],
      "metadata": {
        "colab": {
          "base_uri": "https://localhost:8080/"
        },
        "id": "wZVKjuP7fNZY",
        "outputId": "b8b78d62-04f1-409f-d6fe-775b7f84a715"
      },
      "execution_count": 5,
      "outputs": [
        {
          "output_type": "stream",
          "name": "stdout",
          "text": [
            "Warning: When  cdn_resources is 'local' jupyter notebook has issues displaying graphics on chrome/safari. Use cdn_resources='in_line' or cdn_resources='remote' if you have issues viewing graphics in a notebook.\n"
          ]
        }
      ]
    },
    {
      "cell_type": "code",
      "source": [
        "# Define the styles for nodes based on prefixes\n",
        "VIS_STYLE = {\n",
        "    \"dbr\": {\n",
        "        \"color\": \"orange\",\n",
        "        \"size\": 20,\n",
        "    },\n",
        "    \"dbo\": {\n",
        "        \"color\": \"blue\",\n",
        "        \"size\": 25,\n",
        "    },\n",
        "}\n"
      ],
      "metadata": {
        "id": "Fbedph6_fUIM"
      },
      "execution_count": 6,
      "outputs": []
    },
    {
      "cell_type": "code",
      "source": [
        "# Add nodes to pyvis network with styles\n",
        "for node, position in complex_nodes.items():\n",
        "    node_type = \"dbr\" if \"Event\" in node or \"Org\" in node else \"dbo\"  # Example classification\n",
        "    pyvis_net.add_node(node, x=position[0], y=position[1], title=node, color=VIS_STYLE[node_type][\"color\"], size=VIS_STYLE[node_type][\"size\"])"
      ],
      "metadata": {
        "id": "28sjgz-DfbKl"
      },
      "execution_count": 7,
      "outputs": []
    },
    {
      "cell_type": "code",
      "source": [
        "# Add edges to pyvis network\n",
        "for edge in complex_edges:\n",
        "    pyvis_net.add_edge(edge[0], edge[1])"
      ],
      "metadata": {
        "id": "gytGyaRqflQV"
      },
      "execution_count": 8,
      "outputs": []
    },
    {
      "cell_type": "code",
      "source": [
        "# Use ForceAtlas2 for layout and display in the notebook\n",
        "pyvis_net.force_atlas_2based()\n",
        "pyvis_net.show(\"complex_ontology_visualization.html\")\n"
      ],
      "metadata": {
        "colab": {
          "base_uri": "https://localhost:8080/",
          "height": 638
        },
        "id": "s2DMmx1OfrRu",
        "outputId": "44ff435f-24ac-4460-853b-81d460b4e373"
      },
      "execution_count": 9,
      "outputs": [
        {
          "output_type": "stream",
          "name": "stdout",
          "text": [
            "complex_ontology_visualization.html\n"
          ]
        },
        {
          "output_type": "execute_result",
          "data": {
            "text/plain": [
              "<IPython.lib.display.IFrame at 0x7fece5402080>"
            ],
            "text/html": [
              "\n",
              "        <iframe\n",
              "            width=\"100%\"\n",
              "            height=\"600px\"\n",
              "            src=\"complex_ontology_visualization.html\"\n",
              "            frameborder=\"0\"\n",
              "            allowfullscreen\n",
              "            \n",
              "        ></iframe>\n",
              "        "
            ]
          },
          "metadata": {},
          "execution_count": 9
        }
      ]
    },
    {
      "cell_type": "code",
      "source": [
        "\n",
        "from google.colab import files\n",
        "files.download('complex_ontology_visualization.html')"
      ],
      "metadata": {
        "colab": {
          "base_uri": "https://localhost:8080/",
          "height": 17
        },
        "id": "py2AN-5Tfv33",
        "outputId": "55cc9cc1-6edc-4cc3-d5db-292baab832c2"
      },
      "execution_count": 10,
      "outputs": [
        {
          "output_type": "display_data",
          "data": {
            "text/plain": [
              "<IPython.core.display.Javascript object>"
            ],
            "application/javascript": [
              "\n",
              "    async function download(id, filename, size) {\n",
              "      if (!google.colab.kernel.accessAllowed) {\n",
              "        return;\n",
              "      }\n",
              "      const div = document.createElement('div');\n",
              "      const label = document.createElement('label');\n",
              "      label.textContent = `Downloading \"${filename}\": `;\n",
              "      div.appendChild(label);\n",
              "      const progress = document.createElement('progress');\n",
              "      progress.max = size;\n",
              "      div.appendChild(progress);\n",
              "      document.body.appendChild(div);\n",
              "\n",
              "      const buffers = [];\n",
              "      let downloaded = 0;\n",
              "\n",
              "      const channel = await google.colab.kernel.comms.open(id);\n",
              "      // Send a message to notify the kernel that we're ready.\n",
              "      channel.send({})\n",
              "\n",
              "      for await (const message of channel.messages) {\n",
              "        // Send a message to notify the kernel that we're ready.\n",
              "        channel.send({})\n",
              "        if (message.buffers) {\n",
              "          for (const buffer of message.buffers) {\n",
              "            buffers.push(buffer);\n",
              "            downloaded += buffer.byteLength;\n",
              "            progress.value = downloaded;\n",
              "          }\n",
              "        }\n",
              "      }\n",
              "      const blob = new Blob(buffers, {type: 'application/binary'});\n",
              "      const a = document.createElement('a');\n",
              "      a.href = window.URL.createObjectURL(blob);\n",
              "      a.download = filename;\n",
              "      div.appendChild(a);\n",
              "      a.click();\n",
              "      div.remove();\n",
              "    }\n",
              "  "
            ]
          },
          "metadata": {}
        },
        {
          "output_type": "display_data",
          "data": {
            "text/plain": [
              "<IPython.core.display.Javascript object>"
            ],
            "application/javascript": [
              "download(\"download_905e374e-e3d1-4e22-8fdf-380a20a310b1\", \"complex_ontology_visualization.html\", 7915)"
            ]
          },
          "metadata": {}
        }
      ]
    },
    {
      "cell_type": "code",
      "source": [],
      "metadata": {
        "id": "NfrG7GMef6UC"
      },
      "execution_count": null,
      "outputs": []
    }
  ],
  "metadata": {
    "colab": {
      "name": "Welcome to Colaboratory",
      "toc_visible": true,
      "provenance": [],
      "include_colab_link": true
    },
    "kernelspec": {
      "display_name": "Python 3",
      "name": "python3"
    }
  },
  "nbformat": 4,
  "nbformat_minor": 0
}
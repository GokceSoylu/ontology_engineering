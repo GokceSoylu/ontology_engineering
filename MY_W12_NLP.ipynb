{
  "cells": [
    {
      "cell_type": "code",
      "execution_count": null,
      "metadata": {
        "id": "F7ZfEkanCCJj"
      },
      "outputs": [],
      "source": [
        "pip install pydrive oauth2client\n"
      ]
    },
    {
      "cell_type": "code",
      "execution_count": null,
      "metadata": {
        "id": "JYFRHqFCCCJm"
      },
      "outputs": [],
      "source": [
        "#deneme"
      ]
    },
    {
      "cell_type": "code",
      "source": [],
      "metadata": {
        "id": "CcPaYQl9CFHC"
      },
      "execution_count": null,
      "outputs": []
    }
  ],
  "metadata": {
    "kernelspec": {
      "display_name": "Python 3",
      "language": "python",
      "name": "python3"
    },
    "language_info": {
      "codemirror_mode": {
        "name": "ipython",
        "version": 3
      },
      "file_extension": ".py",
      "mimetype": "text/x-python",
      "name": "python",
      "nbconvert_exporter": "python",
      "pygments_lexer": "ipython3",
      "version": "3.9.6"
    },
    "colab": {
      "provenance": []
    }
  },
  "nbformat": 4,
  "nbformat_minor": 0
}